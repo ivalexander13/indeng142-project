{
 "cells": [
  {
   "cell_type": "code",
   "execution_count": 2,
   "metadata": {},
   "outputs": [],
   "source": [
    "import numpy as np\n",
    "import pandas as pd\n",
    "import os\n",
    "from tqdm import tqdm\n",
    "import snscrape.modules.twitter as sntwitter\n",
    "import preprocessor as p\n",
    "from vaderSentiment.vaderSentiment import SentimentIntensityAnalyzer\n"
   ]
  },
  {
   "cell_type": "markdown",
   "metadata": {},
   "source": [
    "## Params"
   ]
  },
  {
   "cell_type": "code",
   "execution_count": 4,
   "metadata": {},
   "outputs": [],
   "source": [
    "tweets_dir = os.path.join('./data/tweets')\n",
    "max_results = 1000"
   ]
  },
  {
   "cell_type": "code",
   "execution_count": 6,
   "metadata": {},
   "outputs": [
    {
     "data": {
      "text/html": [
       "<div>\n",
       "<style scoped>\n",
       "    .dataframe tbody tr th:only-of-type {\n",
       "        vertical-align: middle;\n",
       "    }\n",
       "\n",
       "    .dataframe tbody tr th {\n",
       "        vertical-align: top;\n",
       "    }\n",
       "\n",
       "    .dataframe thead th {\n",
       "        text-align: right;\n",
       "    }\n",
       "</style>\n",
       "<table border=\"1\" class=\"dataframe\">\n",
       "  <thead>\n",
       "    <tr style=\"text-align: right;\">\n",
       "      <th></th>\n",
       "      <th>IPO Date</th>\n",
       "      <th>Symbol</th>\n",
       "      <th>Name</th>\n",
       "      <th>IPO Price</th>\n",
       "      <th>IPO Open Price</th>\n",
       "      <th>Shares Outstanding</th>\n",
       "      <th>IPO Market Capitalization</th>\n",
       "      <th>Volume Traded on Opening Day</th>\n",
       "      <th>No. of Employees</th>\n",
       "      <th>Currency</th>\n",
       "      <th>CPI Seasonally Adj</th>\n",
       "      <th>IPO + 1wk</th>\n",
       "      <th>Close Price</th>\n",
       "      <th>Price Change</th>\n",
       "      <th>Price Change 2</th>\n",
       "      <th>Price Up?</th>\n",
       "      <th>diff_exp</th>\n",
       "    </tr>\n",
       "  </thead>\n",
       "  <tbody>\n",
       "    <tr>\n",
       "      <th>0</th>\n",
       "      <td>Jan 4, 2019</td>\n",
       "      <td>SXTC</td>\n",
       "      <td>China SXT Pharmaceuticals</td>\n",
       "      <td>4.0</td>\n",
       "      <td>17.96</td>\n",
       "      <td>5937500.0</td>\n",
       "      <td>1.066375e+08</td>\n",
       "      <td>10372.0</td>\n",
       "      <td>105.0</td>\n",
       "      <td>USD</td>\n",
       "      <td>252.493</td>\n",
       "      <td>2019-01-11</td>\n",
       "      <td>24.8000</td>\n",
       "      <td>6.8400</td>\n",
       "      <td>1.380846</td>\n",
       "      <td>1</td>\n",
       "      <td>13.96</td>\n",
       "    </tr>\n",
       "    <tr>\n",
       "      <th>1</th>\n",
       "      <td>Jan 8, 2019</td>\n",
       "      <td>MTC</td>\n",
       "      <td>MMTec</td>\n",
       "      <td>4.0</td>\n",
       "      <td>4.50</td>\n",
       "      <td>19800000.0</td>\n",
       "      <td>8.910000e+07</td>\n",
       "      <td>179950.0</td>\n",
       "      <td>33.0</td>\n",
       "      <td>USD</td>\n",
       "      <td>252.493</td>\n",
       "      <td>2019-01-15</td>\n",
       "      <td>7.4800</td>\n",
       "      <td>2.9800</td>\n",
       "      <td>1.662222</td>\n",
       "      <td>1</td>\n",
       "      <td>0.50</td>\n",
       "    </tr>\n",
       "    <tr>\n",
       "      <th>2</th>\n",
       "      <td>Jan 8, 2019</td>\n",
       "      <td>MDJH</td>\n",
       "      <td>MDJM Ltd.</td>\n",
       "      <td>5.0</td>\n",
       "      <td>4.75</td>\n",
       "      <td>11980000.0</td>\n",
       "      <td>5.690500e+07</td>\n",
       "      <td>34720.0</td>\n",
       "      <td>145.0</td>\n",
       "      <td>USD</td>\n",
       "      <td>252.493</td>\n",
       "      <td>2019-01-15</td>\n",
       "      <td>3.8895</td>\n",
       "      <td>-0.8605</td>\n",
       "      <td>0.818842</td>\n",
       "      <td>0</td>\n",
       "      <td>0.25</td>\n",
       "    </tr>\n",
       "    <tr>\n",
       "      <th>3</th>\n",
       "      <td>Jan 9, 2019</td>\n",
       "      <td>BCOW</td>\n",
       "      <td>1895 Bancorp of Wisconsin</td>\n",
       "      <td>10.0</td>\n",
       "      <td>10.50</td>\n",
       "      <td>3200450.0</td>\n",
       "      <td>3.360472e+07</td>\n",
       "      <td>212436.0</td>\n",
       "      <td>124.0</td>\n",
       "      <td>USD</td>\n",
       "      <td>252.493</td>\n",
       "      <td>2019-01-16</td>\n",
       "      <td>10.0000</td>\n",
       "      <td>-0.5000</td>\n",
       "      <td>0.952381</td>\n",
       "      <td>0</td>\n",
       "      <td>0.50</td>\n",
       "    </tr>\n",
       "    <tr>\n",
       "      <th>4</th>\n",
       "      <td>Jan 17, 2019</td>\n",
       "      <td>RBKB</td>\n",
       "      <td>Rhinebeck Bancorp</td>\n",
       "      <td>10.0</td>\n",
       "      <td>11.31</td>\n",
       "      <td>4162883.0</td>\n",
       "      <td>4.708221e+07</td>\n",
       "      <td>823975.0</td>\n",
       "      <td>166.0</td>\n",
       "      <td>USD</td>\n",
       "      <td>252.493</td>\n",
       "      <td>2019-01-24</td>\n",
       "      <td>11.5800</td>\n",
       "      <td>0.2700</td>\n",
       "      <td>1.023873</td>\n",
       "      <td>1</td>\n",
       "      <td>1.31</td>\n",
       "    </tr>\n",
       "  </tbody>\n",
       "</table>\n",
       "</div>"
      ],
      "text/plain": [
       "       IPO Date Symbol                       Name  IPO Price  IPO Open Price  \\\n",
       "0   Jan 4, 2019   SXTC  China SXT Pharmaceuticals        4.0           17.96   \n",
       "1   Jan 8, 2019    MTC                      MMTec        4.0            4.50   \n",
       "2   Jan 8, 2019   MDJH                  MDJM Ltd.        5.0            4.75   \n",
       "3   Jan 9, 2019   BCOW  1895 Bancorp of Wisconsin       10.0           10.50   \n",
       "4  Jan 17, 2019   RBKB          Rhinebeck Bancorp       10.0           11.31   \n",
       "\n",
       "   Shares Outstanding  IPO Market Capitalization  \\\n",
       "0           5937500.0               1.066375e+08   \n",
       "1          19800000.0               8.910000e+07   \n",
       "2          11980000.0               5.690500e+07   \n",
       "3           3200450.0               3.360472e+07   \n",
       "4           4162883.0               4.708221e+07   \n",
       "\n",
       "   Volume Traded on Opening Day  No. of Employees Currency  \\\n",
       "0                       10372.0             105.0      USD   \n",
       "1                      179950.0              33.0      USD   \n",
       "2                       34720.0             145.0      USD   \n",
       "3                      212436.0             124.0      USD   \n",
       "4                      823975.0             166.0      USD   \n",
       "\n",
       "   CPI Seasonally Adj   IPO + 1wk  Close Price  Price Change  Price Change 2  \\\n",
       "0             252.493  2019-01-11      24.8000        6.8400        1.380846   \n",
       "1             252.493  2019-01-15       7.4800        2.9800        1.662222   \n",
       "2             252.493  2019-01-15       3.8895       -0.8605        0.818842   \n",
       "3             252.493  2019-01-16      10.0000       -0.5000        0.952381   \n",
       "4             252.493  2019-01-24      11.5800        0.2700        1.023873   \n",
       "\n",
       "   Price Up?  diff_exp  \n",
       "0          1     13.96  \n",
       "1          1      0.50  \n",
       "2          0      0.25  \n",
       "3          0      0.50  \n",
       "4          1      1.31  "
      ]
     },
     "execution_count": 6,
     "metadata": {},
     "output_type": "execute_result"
    }
   ],
   "source": [
    "# Obtain company metadata\n",
    "company_meta = pd.read_csv('./data/ipo_data_cleaned.csv', index_col=0)\n",
    "company_meta.head()"
   ]
  },
  {
   "cell_type": "code",
   "execution_count": 7,
   "metadata": {},
   "outputs": [
    {
     "name": "stderr",
     "output_type": "stream",
     "text": [
      "Cumulative Tweets: 220830; Company: Orion Office REIT: 100%|██████████| 1050/1050 [16:55<00:00,  1.03it/s] \n"
     ]
    }
   ],
   "source": [
    "pbar = tqdm(total=company_meta.shape[0])\n",
    "\n",
    "tweets_per_company = []\n",
    "try:\n",
    "    for ipo_date, ticker, company in company_meta[[\n",
    "        'IPO Date',\n",
    "        'Symbol',\n",
    "        'Name',\n",
    "    ]].values:\n",
    "        pbar.set_description(f\"Cumulative Tweets: {sum(tweets_per_company)}; Company: {company}\")\n",
    "        out_csv = os.path.join(tweets_dir, str(ticker)+'.csv')\n",
    "\n",
    "        # caching\n",
    "        if os.path.isfile(out_csv):\n",
    "            tweets_per_company.append(pd.read_csv(out_csv).shape[0])\n",
    "            pbar.update(1)\n",
    "            continue\n",
    "\n",
    "        # date stuff\n",
    "        ipo_date = pd.to_datetime(ipo_date).date()\n",
    "        week_before = ipo_date - pd.to_timedelta(14, unit='d')\n",
    "\n",
    "        # get tweets\n",
    "        tweets_list = []\n",
    "        for i, tweet in enumerate(sntwitter.TwitterSearchScraper(f'{company} OR {ticker} since:{week_before} until:{ipo_date} lang:en').get_items()):\n",
    "            if i >= max_results:\n",
    "                break\n",
    "\n",
    "            tweets_list.append([\n",
    "                tweet.date, \n",
    "                p.clean(tweet.content), \n",
    "                tweet.replyCount,\n",
    "                tweet.retweetCount,\n",
    "                tweet.likeCount,\n",
    "                tweet.quoteCount,\n",
    "                ])\n",
    "\n",
    "        tweets_df = pd.DataFrame(tweets_list, columns=[\n",
    "            'date', \n",
    "            'content', \n",
    "            'replyCount', \n",
    "            'retweetCount', \n",
    "            'likeCount',\n",
    "            'quoteCount',\n",
    "        ])\n",
    "\n",
    "        tweets_df['date'] = pd.to_datetime(tweets_df['date']).dt.date\n",
    "        tweets_df.to_csv(out_csv)\n",
    "        tweets_per_company.append(tweets_df.shape[0])\n",
    "        pbar.update(1)\n",
    "\n",
    "except KeyboardInterrupt:\n",
    "    print('Interrupted')\n",
    "    pass\n",
    "\n",
    "pbar.close()"
   ]
  },
  {
   "cell_type": "code",
   "execution_count": 8,
   "metadata": {},
   "outputs": [
    {
     "data": {
      "image/png": "[encoded data removed]",
      "text/plain": [
       "<Figure size 432x288 with 1 Axes>"
      ]
     },
     "metadata": {
      "needs_background": "light"
     },
     "output_type": "display_data"
    }
   ],
   "source": [
    "import matplotlib.pyplot as plt\n",
    "plt.hist(tweets_per_company)\n",
    "plt.title('Number of Tweets per Company')\n",
    "plt.ylabel('Count')\n",
    "plt.xlabel('Number of Tweets per Company')\n",
    "plt.yscale('log')\n",
    "plt.tight_layout()\n",
    "plt.savefig('graphs/tweetcounts.jpg')\n",
    "plt.show()"
   ]
  },
  {
   "cell_type": "code",
   "execution_count": 9,
   "metadata": {},
   "outputs": [],
   "source": [
    "def get_sentiment(sentence):\n",
    "    sentence = str(sentence)\n",
    "    try:\n",
    "        sentiment = analyzer.polarity_scores(str(sentence)['compound'])\n",
    "    except:\n",
    "        sentiment =  -100\n",
    "\n",
    "    return sentiment"
   ]
  },
  {
   "cell_type": "code",
   "execution_count": 10,
   "metadata": {},
   "outputs": [
    {
     "name": "stderr",
     "output_type": "stream",
     "text": [
      "100%|██████████| 1050/1050 [00:09<00:00, 112.45it/s]\n"
     ]
    }
   ],
   "source": [
    "# Sentiment analysis\n",
    "pbar = tqdm(total=company_meta.shape[0])\n",
    "analyzer = SentimentIntensityAnalyzer()\n",
    "\n",
    "sentiments = []\n",
    "try:\n",
    "    for ipo_date, ticker, company in company_meta[[\n",
    "        'IPO Date',\n",
    "        'Symbol',\n",
    "        'Name',\n",
    "    ]].values:\n",
    "        # pbar.set_description(f\"Company: {company}\")\n",
    "        out_csv = os.path.join(tweets_dir, str(ticker)+'.csv')\n",
    "\n",
    "        tweets_df = pd.read_csv(out_csv, index_col=0)\n",
    "\n",
    "        # caching\n",
    "        if 'sentiment' in tweets_df.columns:\n",
    "            sentiments.extend(tweets_df['sentiment'].values)\n",
    "            pbar.update(1)\n",
    "            continue\n",
    "\n",
    "        # main\n",
    "        tweets_df['sentiment'] = tweets_df['content'].apply(lambda sentence: analyzer.polarity_scores(str(sentence))['compound'])\n",
    "\n",
    "        tweets_df.to_csv(out_csv)\n",
    "        sentiments.extend(tweets_df['sentiment'].values)\n",
    "        pbar.update(1)\n",
    "\n",
    "except KeyboardInterrupt:\n",
    "    print('Interrupted')\n",
    "    pass\n",
    "\n",
    "pbar.close()"
   ]
  },
  {
   "cell_type": "code",
   "execution_count": 11,
   "metadata": {},
   "outputs": [
    {
     "data": {
      "image/png": "[encoded data removed]",
      "text/plain": [
       "<Figure size 432x288 with 1 Axes>"
      ]
     },
     "metadata": {
      "needs_background": "light"
     },
     "output_type": "display_data"
    }
   ],
   "source": [
    "import matplotlib.pyplot as plt\n",
    "plt.hist(sentiments, bins=np.linspace(-1, 1, 20))\n",
    "plt.title('Distribution of Sentiment per Tweet')\n",
    "plt.ylabel('Count')\n",
    "plt.xlabel('Sentiment Value')\n",
    "# plt.yscale('log')\n",
    "plt.tight_layout()\n",
    "plt.savefig('graphs/sentiments_tweets.jpg')\n",
    "plt.show()"
   ]
  },
  {
   "cell_type": "code",
   "execution_count": 12,
   "metadata": {},
   "outputs": [
    {
     "name": "stderr",
     "output_type": "stream",
     "text": [
      "100%|██████████| 1050/1050 [00:04<00:00, 248.19it/s]\n"
     ]
    },
    {
     "data": {
      "text/html": [
       "<div>\n",
       "<style scoped>\n",
       "    .dataframe tbody tr th:only-of-type {\n",
       "        vertical-align: middle;\n",
       "    }\n",
       "\n",
       "    .dataframe tbody tr th {\n",
       "        vertical-align: top;\n",
       "    }\n",
       "\n",
       "    .dataframe thead th {\n",
       "        text-align: right;\n",
       "    }\n",
       "</style>\n",
       "<table border=\"1\" class=\"dataframe\">\n",
       "  <thead>\n",
       "    <tr style=\"text-align: right;\">\n",
       "      <th></th>\n",
       "      <th>Symbol</th>\n",
       "      <th>tweetCount</th>\n",
       "      <th>replyCount</th>\n",
       "      <th>retweetCount</th>\n",
       "      <th>likeCount</th>\n",
       "      <th>quoteCount</th>\n",
       "      <th>weightedSentiment</th>\n",
       "      <th>unweightedSentiment</th>\n",
       "    </tr>\n",
       "  </thead>\n",
       "  <tbody>\n",
       "    <tr>\n",
       "      <th>0</th>\n",
       "      <td>SXTC</td>\n",
       "      <td>8</td>\n",
       "      <td>0.000</td>\n",
       "      <td>0.125000</td>\n",
       "      <td>0.000000</td>\n",
       "      <td>0.000</td>\n",
       "      <td>0.296000</td>\n",
       "      <td>0.037000</td>\n",
       "    </tr>\n",
       "    <tr>\n",
       "      <th>1</th>\n",
       "      <td>MTC</td>\n",
       "      <td>1000</td>\n",
       "      <td>0.299</td>\n",
       "      <td>0.570000</td>\n",
       "      <td>2.489000</td>\n",
       "      <td>0.072</td>\n",
       "      <td>0.301166</td>\n",
       "      <td>0.185244</td>\n",
       "    </tr>\n",
       "    <tr>\n",
       "      <th>2</th>\n",
       "      <td>MDJH</td>\n",
       "      <td>11</td>\n",
       "      <td>0.000</td>\n",
       "      <td>0.090909</td>\n",
       "      <td>0.090909</td>\n",
       "      <td>0.000</td>\n",
       "      <td>0.000000</td>\n",
       "      <td>0.057818</td>\n",
       "    </tr>\n",
       "    <tr>\n",
       "      <th>3</th>\n",
       "      <td>BCOW</td>\n",
       "      <td>6</td>\n",
       "      <td>0.000</td>\n",
       "      <td>0.000000</td>\n",
       "      <td>0.000000</td>\n",
       "      <td>0.000</td>\n",
       "      <td>0.000000</td>\n",
       "      <td>0.000000</td>\n",
       "    </tr>\n",
       "    <tr>\n",
       "      <th>4</th>\n",
       "      <td>RBKB</td>\n",
       "      <td>9</td>\n",
       "      <td>0.000</td>\n",
       "      <td>0.000000</td>\n",
       "      <td>0.000000</td>\n",
       "      <td>0.000</td>\n",
       "      <td>0.000000</td>\n",
       "      <td>0.000000</td>\n",
       "    </tr>\n",
       "  </tbody>\n",
       "</table>\n",
       "</div>"
      ],
      "text/plain": [
       "  Symbol  tweetCount  replyCount  retweetCount  likeCount  quoteCount  \\\n",
       "0   SXTC           8       0.000      0.125000   0.000000       0.000   \n",
       "1    MTC        1000       0.299      0.570000   2.489000       0.072   \n",
       "2   MDJH          11       0.000      0.090909   0.090909       0.000   \n",
       "3   BCOW           6       0.000      0.000000   0.000000       0.000   \n",
       "4   RBKB           9       0.000      0.000000   0.000000       0.000   \n",
       "\n",
       "   weightedSentiment  unweightedSentiment  \n",
       "0           0.296000             0.037000  \n",
       "1           0.301166             0.185244  \n",
       "2           0.000000             0.057818  \n",
       "3           0.000000             0.000000  \n",
       "4           0.000000             0.000000  "
      ]
     },
     "execution_count": 12,
     "metadata": {},
     "output_type": "execute_result"
    }
   ],
   "source": [
    "# Sentiment analysis\n",
    "pbar = tqdm(total=company_meta.shape[0])\n",
    "\n",
    "rows_arr = []\n",
    "out_cols = ['Symbol', 'tweetCount', 'replyCount', 'retweetCount', 'likeCount', 'quoteCount', 'weightedSentiment', 'unweightedSentiment']\n",
    "try:\n",
    "    for ipo_date, ticker, company in company_meta[[\n",
    "        'IPO Date',\n",
    "        'Symbol',\n",
    "        'Name',\n",
    "    ]].values:\n",
    "        # pbar.set_description(f\"Company: {company}\")\n",
    "        out_csv = os.path.join(tweets_dir, str(ticker)+'.csv')\n",
    "\n",
    "        tweets_df = pd.read_csv(out_csv, index_col=0)\n",
    "\n",
    "        # get weighted average for sentiment\n",
    "        weights = tweets_df[['replyCount', 'likeCount', 'retweetCount', 'quoteCount']].sum(axis=1)\n",
    "        if sum(weights) == 0:\n",
    "            mean_sentiment = np.mean(tweets_df[\"sentiment\"])\n",
    "        else:\n",
    "            mean_sentiment = np.average(tweets_df['sentiment'], weights=weights)\n",
    "\n",
    "        row_entry = [\n",
    "            ticker, \n",
    "            tweets_df.shape[0],\n",
    "            np.mean(tweets_df['replyCount']),\n",
    "            np.mean(tweets_df['retweetCount']),\n",
    "            np.mean(tweets_df['likeCount']),\n",
    "            np.mean(tweets_df['quoteCount']),\n",
    "            mean_sentiment,\n",
    "            np.mean(tweets_df[\"sentiment\"])\n",
    "        ]\n",
    "\n",
    "        rows_arr.append(row_entry)\n",
    "        pbar.update(1)\n",
    "\n",
    "except KeyboardInterrupt:\n",
    "    print('Interrupted')\n",
    "    pass\n",
    "\n",
    "final_df = pd.DataFrame(\n",
    "    rows_arr,\n",
    "    columns=out_cols\n",
    ")\n",
    "final_df.to_csv('./data/company_tweets.csv')\n",
    "\n",
    "pbar.close()\n",
    "final_df.head()"
   ]
  },
  {
   "cell_type": "code",
   "execution_count": 13,
   "metadata": {},
   "outputs": [
    {
     "data": {
      "image/png": "[encoded data removed]",
      "text/plain": [
       "<Figure size 432x288 with 1 Axes>"
      ]
     },
     "metadata": {
      "needs_background": "light"
     },
     "output_type": "display_data"
    }
   ],
   "source": [
    "plt.hist(final_df.weightedSentiment, bins=np.linspace(-1, 1, 50),  alpha=0.5, label='Weighted')\n",
    "plt.hist(final_df.unweightedSentiment, bins=np.linspace(-1, 1, 50),  alpha=0.5, label='Unweighted')\n",
    "plt.title('Distribution of Sentiment per Company')\n",
    "plt.ylabel('Count')\n",
    "plt.xlabel('Sentiment Value')\n",
    "# plt.yscale('log')\n",
    "plt.legend()\n",
    "plt.tight_layout()\n",
    "plt.savefig('graphs/sentiments_company.jpg')\n",
    "plt.show()"
   ]
  },
  {
   "cell_type": "code",
   "execution_count": 14,
   "metadata": {},
   "outputs": [
    {
     "data": {
      "image/png": "[encoded data removed]",
      "text/plain": [
       "<Figure size 432x288 with 1 Axes>"
      ]
     },
     "metadata": {
      "needs_background": "light"
     },
     "output_type": "display_data"
    }
   ],
   "source": [
    "plt.scatter(y='weightedSentiment', x='tweetCount', data=final_df,  alpha=0.3, label='Weighted')\n",
    "plt.scatter(y='unweightedSentiment', x='tweetCount', data=final_df,  alpha=0.3, label='Unweighted')\n",
    "plt.title('Distribution of Sentiment by Number of Tweets')\n",
    "plt.ylabel('Sentiment')\n",
    "plt.xlabel('Number of Tweets')\n",
    "plt.xscale('log')\n",
    "plt.legend()\n",
    "plt.tight_layout()\n",
    "plt.savefig('graphs/sentiments_by_numtweets.jpg')\n",
    "plt.show()"
   ]
  },
  {
   "cell_type": "code",
   "execution_count": null,
   "metadata": {},
   "outputs": [],
   "source": []
  }
 ],
 "metadata": {
  "interpreter": {
   "hash": "0d33434fcbcef940076a31270202fa66f778e65e925a0ec55f63c0a598f64d52"
  },
  "kernelspec": {
   "display_name": "Python 3.9.7 64-bit ('indeng142scrape': conda)",
   "language": "python",
   "name": "python3"
  },
  "language_info": {
   "codemirror_mode": {
    "name": "ipython",
    "version": 3
   },
   "file_extension": ".py",
   "mimetype": "text/x-python",
   "name": "python",
   "nbconvert_exporter": "python",
   "pygments_lexer": "ipython3",
   "version": "3.9.7"
  },
  "orig_nbformat": 4
 },
 "nbformat": 4,
 "nbformat_minor": 2
}
