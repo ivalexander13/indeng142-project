{
 "cells": [
  {
   "cell_type": "code",
   "execution_count": 27,
   "metadata": {},
   "outputs": [],
   "source": [
    "import numpy as np\n",
    "import pandas as pd\n",
    "import os\n",
    "from tqdm import tqdm\n",
    "import snscrape.modules.twitter as sntwitter\n",
    "import preprocessor as p"
   ]
  },
  {
   "cell_type": "markdown",
   "metadata": {},
   "source": [
    "## Params"
   ]
  },
  {
   "cell_type": "code",
   "execution_count": 2,
   "metadata": {},
   "outputs": [],
   "source": [
    "tweets_dir = os.path.join('./data/tweets')\n",
    "max_results = 1000"
   ]
  },
  {
   "cell_type": "code",
   "execution_count": 3,
   "metadata": {},
   "outputs": [],
   "source": [
    "# dummy data\n",
    "companies = np.array(['Apple', 'Coinbase', 'Rivian'])\n",
    "ipo_dates = ['2020-06-01', '2020-07-01', '2020-08-01']"
   ]
  },
  {
   "cell_type": "code",
   "execution_count": 4,
   "metadata": {},
   "outputs": [],
   "source": [
    "def company2file(company_name):\n",
    "    company_name = company_name.lower()\n",
    "    return \"\".join([c for c in company_name if c.isalpha() or c.isdigit() or c==' ']).rstrip()"
   ]
  },
  {
   "cell_type": "code",
   "execution_count": 30,
   "metadata": {},
   "outputs": [
    {
     "name": "stderr",
     "output_type": "stream",
     "text": [
      "Processing Rivian: 100%|██████████| 3000/3000 [00:53<00:00, 56.19it/s]\n"
     ]
    }
   ],
   "source": [
    "pbar = tqdm(range(len(companies) * max_results))\n",
    "\n",
    "for company, ipo_date in zip(companies, ipo_dates):\n",
    "    pbar.set_description(f\"Processing {company}\")\n",
    "    company_file = company2file(company)\n",
    "    out_csv = os.path.join(tweets_dir, company_file+'.csv')\n",
    "\n",
    "    # date stuff\n",
    "    ipo_date = pd.to_datetime(ipo_date).date()\n",
    "    week_before = ipo_date - pd.to_timedelta(7, unit='d')\n",
    "\n",
    "    # get tweets\n",
    "    tweets_list = []\n",
    "    for i, tweet in enumerate(sntwitter.TwitterSearchScraper(f'{company} since:{week_before} until:{ipo_date} lang:en').get_items()):\n",
    "        if i >= max_results:\n",
    "            break\n",
    "\n",
    "        tweets_list.append([\n",
    "            tweet.date, \n",
    "            p.clean(tweet.content), \n",
    "            tweet.replyCount,\n",
    "            tweet.retweetCount,\n",
    "            tweet.likeCount,\n",
    "            tweet.quoteCount,\n",
    "            ])\n",
    "        pbar.update(1)\n",
    "\n",
    "    tweets_df = pd.DataFrame(tweets_list, columns=[\n",
    "        'date', \n",
    "        'content', \n",
    "        'replyCount', \n",
    "        'retweetCount', \n",
    "        'likeCount',\n",
    "        'quoteCount',\n",
    "    ])\n",
    "\n",
    "    tweets_df['date'] = pd.to_datetime(tweets_df['date']).dt.date\n",
    "    tweets_df.to_csv(out_csv)\n",
    "    \n",
    "pbar.close()"
   ]
  },
  {
   "cell_type": "code",
   "execution_count": null,
   "metadata": {},
   "outputs": [],
   "source": []
  }
 ],
 "metadata": {
  "interpreter": {
   "hash": "0d33434fcbcef940076a31270202fa66f778e65e925a0ec55f63c0a598f64d52"
  },
  "kernelspec": {
   "display_name": "Python 3.9.7 64-bit ('indeng142scrape': conda)",
   "language": "python",
   "name": "python3"
  },
  "language_info": {
   "codemirror_mode": {
    "name": "ipython",
    "version": 3
   },
   "file_extension": ".py",
   "mimetype": "text/x-python",
   "name": "python",
   "nbconvert_exporter": "python",
   "pygments_lexer": "ipython3",
   "version": "3.9.7"
  },
  "orig_nbformat": 4
 },
 "nbformat": 4,
 "nbformat_minor": 2
}
